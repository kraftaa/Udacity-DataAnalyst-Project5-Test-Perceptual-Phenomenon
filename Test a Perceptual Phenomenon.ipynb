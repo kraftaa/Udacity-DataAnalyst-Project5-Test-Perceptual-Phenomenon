{
 "cells": [
  {
   "cell_type": "markdown",
   "metadata": {},
   "source": [
    "### Analyzing the Stroop Effect\n",
    "Perform the analysis in the space below. Remember to follow [the instructions](https://docs.google.com/document/d/1-OkpZLjG_kX9J6LIQ5IltsqMzVWjh36QpnP2RYpVdPU/pub?embedded=True) and review the [project rubric](https://review.udacity.com/#!/rubrics/71/view) before submitting. Once you've completed the analysis and write-up, download this file as a PDF or HTML file, upload that PDF/HTML into the workspace here (click on the orange Jupyter icon in the upper left then Upload), then use the Submit Project button at the bottom of this page. This will create a zip file containing both this .ipynb doc and the PDF/HTML doc that will be submitted for your project.\n",
    "\n",
    "* [Variables definition](#variables)\n",
    "* [Hypotheses definition](#hypotheses)\n",
    "* [Descriptive statistics](#descr) \n",
    "  * [Measure of central tendency](#centr)\n",
    "  * [Measure of variability](#var)\n",
    "* [Visualization](#viz)\n",
    "* [Statistical test](#stats)\n",
    "* [Optional](#opt)\n"
   ]
  },
  {
   "cell_type": "markdown",
   "metadata": {},
   "source": [
    "<a id=\"variables\"></a>\n",
    "\n",
    "## **Variables**\n",
    "\n",
    "**(1) What is the independent variable? What is the dependent variable?**"
   ]
  },
  {
   "cell_type": "markdown",
   "metadata": {},
   "source": [
    "- An independent variable is the variable that is changed or controlled in a scientific experiment to test the effects on the dependent variable. \n",
    "- A dependent variable is the variable being tested and measured in a scientific experiment.\n",
    "\n",
    "source: (https://www.thoughtco.com/independent-and-dependent-variables-differences-606115)\n",
    "\n",
    "So for our task:\n",
    "- **An independent variable**  congruence/incongruence: if color of the ink is conguent to the word meaning\n",
    "- **A depentent variable** time spent to say the word, is different for congruent and incongruent groups and depends on the ink color."
   ]
  },
  {
   "cell_type": "markdown",
   "metadata": {},
   "source": [
    "<a id=\"hypotheses\"></a>\n",
    "\n",
    "## **Hypotheses**\n",
    "\n",
    "**(2) What is an appropriate set of hypotheses for this task? Specify your null and alternative hypotheses, and clearly define any notation used. Justify your choices.**"
   ]
  },
  {
   "cell_type": "markdown",
   "metadata": {},
   "source": [
    "In order to understand what are the hypotheses for this task we need to have a look at the database:"
   ]
  },
  {
   "cell_type": "code",
   "execution_count": 137,
   "metadata": {},
   "outputs": [],
   "source": [
    "# to import required libraries\n",
    "import math\n",
    "import pandas as pd\n",
    "import numpy as np\n",
    "import seaborn as sns\n",
    "from scipy import stats\n",
    "from scipy.stats import t\n",
    "import matplotlib.pyplot as plt\n",
    "%matplotlib inline"
   ]
  },
  {
   "cell_type": "code",
   "execution_count": 138,
   "metadata": {},
   "outputs": [
    {
     "data": {
      "text/html": [
       "<div>\n",
       "<style>\n",
       "    .dataframe thead tr:only-child th {\n",
       "        text-align: right;\n",
       "    }\n",
       "\n",
       "    .dataframe thead th {\n",
       "        text-align: left;\n",
       "    }\n",
       "\n",
       "    .dataframe tbody tr th {\n",
       "        vertical-align: top;\n",
       "    }\n",
       "</style>\n",
       "<table border=\"1\" class=\"dataframe\">\n",
       "  <thead>\n",
       "    <tr style=\"text-align: right;\">\n",
       "      <th></th>\n",
       "      <th>Congruent</th>\n",
       "      <th>Incongruent</th>\n",
       "    </tr>\n",
       "  </thead>\n",
       "  <tbody>\n",
       "    <tr>\n",
       "      <th>0</th>\n",
       "      <td>12.079</td>\n",
       "      <td>19.278</td>\n",
       "    </tr>\n",
       "    <tr>\n",
       "      <th>1</th>\n",
       "      <td>16.791</td>\n",
       "      <td>18.741</td>\n",
       "    </tr>\n",
       "    <tr>\n",
       "      <th>2</th>\n",
       "      <td>9.564</td>\n",
       "      <td>21.214</td>\n",
       "    </tr>\n",
       "    <tr>\n",
       "      <th>3</th>\n",
       "      <td>8.630</td>\n",
       "      <td>15.687</td>\n",
       "    </tr>\n",
       "    <tr>\n",
       "      <th>4</th>\n",
       "      <td>14.669</td>\n",
       "      <td>22.803</td>\n",
       "    </tr>\n",
       "  </tbody>\n",
       "</table>\n",
       "</div>"
      ],
      "text/plain": [
       "   Congruent  Incongruent\n",
       "0     12.079       19.278\n",
       "1     16.791       18.741\n",
       "2      9.564       21.214\n",
       "3      8.630       15.687\n",
       "4     14.669       22.803"
      ]
     },
     "execution_count": 138,
     "metadata": {},
     "output_type": "execute_result"
    }
   ],
   "source": [
    "# to read the dataset\n",
    "df = pd.read_csv('./stroopdata.csv')\n",
    "\n",
    "# to check dataset columns\n",
    "df.head()"
   ]
  },
  {
   "cell_type": "markdown",
   "metadata": {},
   "source": [
    "$H_{0}$ *Null Hypothesis* μ1 = μ2    states that average reading time for congruent task. when color of text match the word meaning and incogruent task when color of the text is different from the word meaning is not different.\n",
    "\n",
    "$H_{1}$ *Alternative Hypothesis* μ1 != μ2    states that average reading time for conguent task is different from average reading time for incongruent task."
   ]
  },
  {
   "cell_type": "markdown",
   "metadata": {},
   "source": [
    "<a id=\"descr\"></a>\n",
    "\n",
    "## **Descriptive statistics**\n",
    "\n",
    "**(3) Report some descriptive statistics regarding this dataset.**\n",
    "\n",
    "Include at least one measure of central tendency and at least one measure of variability. The name of the data file is 'stroopdata.csv'.\n"
   ]
  },
  {
   "cell_type": "markdown",
   "metadata": {},
   "source": [
    "<a id=\"centr\"></a>\n",
    "\n",
    "**Measure of central tendency**"
   ]
  },
  {
   "cell_type": "code",
   "execution_count": 139,
   "metadata": {},
   "outputs": [
    {
     "data": {
      "text/html": [
       "<div>\n",
       "<style>\n",
       "    .dataframe thead tr:only-child th {\n",
       "        text-align: right;\n",
       "    }\n",
       "\n",
       "    .dataframe thead th {\n",
       "        text-align: left;\n",
       "    }\n",
       "\n",
       "    .dataframe tbody tr th {\n",
       "        vertical-align: top;\n",
       "    }\n",
       "</style>\n",
       "<table border=\"1\" class=\"dataframe\">\n",
       "  <thead>\n",
       "    <tr style=\"text-align: right;\">\n",
       "      <th></th>\n",
       "      <th>Congruent</th>\n",
       "      <th>Incongruent</th>\n",
       "    </tr>\n",
       "  </thead>\n",
       "  <tbody>\n",
       "    <tr>\n",
       "      <th>count</th>\n",
       "      <td>24.000000</td>\n",
       "      <td>24.000000</td>\n",
       "    </tr>\n",
       "    <tr>\n",
       "      <th>mean</th>\n",
       "      <td>14.051125</td>\n",
       "      <td>22.015917</td>\n",
       "    </tr>\n",
       "    <tr>\n",
       "      <th>std</th>\n",
       "      <td>3.559358</td>\n",
       "      <td>4.797057</td>\n",
       "    </tr>\n",
       "    <tr>\n",
       "      <th>min</th>\n",
       "      <td>8.630000</td>\n",
       "      <td>15.687000</td>\n",
       "    </tr>\n",
       "    <tr>\n",
       "      <th>25%</th>\n",
       "      <td>11.895250</td>\n",
       "      <td>18.716750</td>\n",
       "    </tr>\n",
       "    <tr>\n",
       "      <th>50%</th>\n",
       "      <td>14.356500</td>\n",
       "      <td>21.017500</td>\n",
       "    </tr>\n",
       "    <tr>\n",
       "      <th>75%</th>\n",
       "      <td>16.200750</td>\n",
       "      <td>24.051500</td>\n",
       "    </tr>\n",
       "    <tr>\n",
       "      <th>max</th>\n",
       "      <td>22.328000</td>\n",
       "      <td>35.255000</td>\n",
       "    </tr>\n",
       "  </tbody>\n",
       "</table>\n",
       "</div>"
      ],
      "text/plain": [
       "       Congruent  Incongruent\n",
       "count  24.000000    24.000000\n",
       "mean   14.051125    22.015917\n",
       "std     3.559358     4.797057\n",
       "min     8.630000    15.687000\n",
       "25%    11.895250    18.716750\n",
       "50%    14.356500    21.017500\n",
       "75%    16.200750    24.051500\n",
       "max    22.328000    35.255000"
      ]
     },
     "execution_count": 139,
     "metadata": {},
     "output_type": "execute_result"
    }
   ],
   "source": [
    "# to get some descriptive statistics about the dataset\n",
    "df.describe()"
   ]
  },
  {
   "cell_type": "markdown",
   "metadata": {},
   "source": [
    "**Some of measure of central tendency are:**\n",
    "- mean\n",
    "- median\n",
    "- mode\n",
    "- interquartile mean - a truncated mean based on data within the interquartile range"
   ]
  },
  {
   "cell_type": "code",
   "execution_count": 140,
   "metadata": {},
   "outputs": [
    {
     "name": "stdout",
     "output_type": "stream",
     "text": [
      "Congruent median:  14.3565\n",
      "Incongruent median:  21.0175\n"
     ]
    }
   ],
   "source": [
    "# to calculate median for both groups\n",
    "print('Congruent median: ', df['Congruent'].median())\n",
    "print('Incongruent median: ', df['Incongruent'].median())"
   ]
  },
  {
   "cell_type": "code",
   "execution_count": 141,
   "metadata": {},
   "outputs": [],
   "source": [
    "# to calculate mode for congruent values\n",
    "dfC = np.array(df['Congruent'])\n",
    "congruentMode = stats.mode(dfC)\n"
   ]
  },
  {
   "cell_type": "code",
   "execution_count": 142,
   "metadata": {},
   "outputs": [
    {
     "name": "stdout",
     "output_type": "stream",
     "text": [
      "Incongruent Values Mode ModeResult(mode=array([ 15.687]), count=array([1]))\n"
     ]
    }
   ],
   "source": [
    "# to calculate mode for incongruent values\n",
    "dfIn = np.array(df['Incongruent'])\n",
    "incongruentMode = stats.mode(dfIn)\n",
    "print('Incongruent Values Mode', incongruentMode)"
   ]
  },
  {
   "cell_type": "code",
   "execution_count": 143,
   "metadata": {},
   "outputs": [
    {
     "name": "stdout",
     "output_type": "stream",
     "text": [
      "Interquirtile mean for Congruent: 13.85075\n"
     ]
    }
   ],
   "source": [
    "# to calculate interquartile mean for `Congruent` group\n",
    "conIntC = df.query('Congruent >= 11.895250 and Congruent <=16.200750')\n",
    "print('Interquirtile mean for Congruent:', conIntC['Congruent'].mean())"
   ]
  },
  {
   "cell_type": "code",
   "execution_count": 144,
   "metadata": {},
   "outputs": [
    {
     "name": "stdout",
     "output_type": "stream",
     "text": [
      "Interquirtile mean for Incongruent: 21.1418333333\n"
     ]
    }
   ],
   "source": [
    "# to calculate interquartile mean for `Incongruent` group\n",
    "conIntI = df.query('Incongruent >= 18.716750 and Incongruent <=24.051500')\n",
    "print('Interquirtile mean for Incongruent:', conIntI['Incongruent'].mean())"
   ]
  },
  {
   "cell_type": "code",
   "execution_count": 145,
   "metadata": {},
   "outputs": [
    {
     "name": "stdout",
     "output_type": "stream",
     "text": [
      "Measure of central tendency:\n",
      "Congruent mean:  14.051125\n",
      "Incongruent mean:  22.0159166667\n",
      "Congruent median:  14.3565\n",
      "Incongruent median:  21.0175\n",
      "Congruent Values Mode ModeResult(mode=array([ 8.63]), count=array([1]))\n",
      "Incongruent Values Mode ModeResult(mode=array([ 15.687]), count=array([1]))\n",
      "Interquirtile mean for Congruent: 13.85075\n",
      "Interquirtile mean for Incongruent: 21.1418333333\n"
     ]
    }
   ],
   "source": [
    "print('Measure of central tendency:')\n",
    "print('Congruent mean: ', df['Congruent'].mean())\n",
    "print('Incongruent mean: ', df['Incongruent'].mean())\n",
    "print('Congruent median: ', df['Congruent'].median())\n",
    "print('Incongruent median: ', df['Incongruent'].median())\n",
    "print('Congruent Values Mode', congruentMode)\n",
    "print('Incongruent Values Mode', incongruentMode)\n",
    "print('Interquirtile mean for Congruent:', conIntC['Congruent'].mean())\n",
    "print('Interquirtile mean for Incongruent:', conIntI['Incongruent'].mean())"
   ]
  },
  {
   "cell_type": "markdown",
   "metadata": {},
   "source": [
    "<a id=\"var\"></a>\n",
    "\n",
    "**Measure of variability**"
   ]
  },
  {
   "cell_type": "code",
   "execution_count": 146,
   "metadata": {},
   "outputs": [],
   "source": [
    "# import libraries to calculate interqurtile range\n",
    "\n",
    "from scipy.stats import iqr"
   ]
  },
  {
   "cell_type": "code",
   "execution_count": 147,
   "metadata": {},
   "outputs": [
    {
     "name": "stdout",
     "output_type": "stream",
     "text": [
      "Range for Congruent: 13.698\n"
     ]
    }
   ],
   "source": [
    "# to calculate range for `Congruent` group\n",
    "\n",
    "print('Range for Congruent:', df['Congruent'].max()-df['Congruent'].min())"
   ]
  },
  {
   "cell_type": "code",
   "execution_count": 148,
   "metadata": {},
   "outputs": [
    {
     "name": "stdout",
     "output_type": "stream",
     "text": [
      "Range for Incongruent: 19.568\n"
     ]
    }
   ],
   "source": [
    "# to calculate range for `Incongruent` group\n",
    "\n",
    "print('Range for Incongruent:', df['Incongruent'].max()-df['Incongruent'].min())"
   ]
  },
  {
   "cell_type": "code",
   "execution_count": 149,
   "metadata": {},
   "outputs": [
    {
     "name": "stdout",
     "output_type": "stream",
     "text": [
      "Interquartile range for Congruent: 4.3055\n"
     ]
    }
   ],
   "source": [
    "# to calculate interquartile range for `Congruent` group\n",
    "print('Interquartile range for Congruent:', iqr(dfC))"
   ]
  },
  {
   "cell_type": "code",
   "execution_count": 150,
   "metadata": {},
   "outputs": [
    {
     "name": "stdout",
     "output_type": "stream",
     "text": [
      "Interquartile range for Incongruent: 5.33475\n"
     ]
    }
   ],
   "source": [
    "# to calculate interquartile range for `Incongruent` group\n",
    "\n",
    "print('Interquartile range for Incongruent:', iqr(dfIn))"
   ]
  },
  {
   "cell_type": "markdown",
   "metadata": {},
   "source": [
    "**The standard deviation**"
   ]
  },
  {
   "cell_type": "code",
   "execution_count": 151,
   "metadata": {},
   "outputs": [
    {
     "name": "stdout",
     "output_type": "stream",
     "text": [
      "Standard deviation congruent 3.55935795765\n",
      "Standard deviation incongruent 4.79705712247\n"
     ]
    }
   ],
   "source": [
    "# to identify standard deviation for both groups\n",
    "print('Standard deviation congruent', df['Congruent'].std())\n",
    "print('Standard deviation incongruent', df['Incongruent'].std())"
   ]
  },
  {
   "cell_type": "markdown",
   "metadata": {},
   "source": [
    "**The variance for both groups:**"
   ]
  },
  {
   "cell_type": "code",
   "execution_count": 152,
   "metadata": {},
   "outputs": [
    {
     "name": "stdout",
     "output_type": "stream",
     "text": [
      "Variance congruent 12.6690290707\n",
      "Variance incongruent 23.0117570362\n"
     ]
    }
   ],
   "source": [
    "# to identify variance for both groups\n",
    "print('Variance congruent', df['Congruent'].var())\n",
    "print('Variance incongruent', df['Incongruent'].var())"
   ]
  },
  {
   "cell_type": "markdown",
   "metadata": {},
   "source": [
    "<a id=\"viz\"></a>\n",
    "\n",
    "## **Visualization**\n",
    "\n",
    "(4) Provide one or two visualizations that show the distribution of the sample data. Write one or two sentences noting what you observe about the plot or plots."
   ]
  },
  {
   "cell_type": "code",
   "execution_count": 153,
   "metadata": {},
   "outputs": [
    {
     "data": {
      "image/png": "[encoded data removed]",
      "text/plain": [
       "<matplotlib.figure.Figure at 0x7fb3650fb940>"
      ]
     },
     "metadata": {
      "needs_background": "light"
     },
     "output_type": "display_data"
    }
   ],
   "source": [
    "# Build the visualizations here\n",
    "\n",
    "#Visualisation for `Congruent` group\n",
    "plt.hist(df['Congruent'])\n",
    "plt.title('Congruent group time')\n",
    "plt.xlabel('time')\n",
    "plt.ylabel('number of observations')\n",
    "plt.show()"
   ]
  },
  {
   "cell_type": "code",
   "execution_count": 154,
   "metadata": {},
   "outputs": [
    {
     "data": {
      "image/png": "[encoded data removed]",
      "text/plain": [
       "<matplotlib.figure.Figure at 0x7fb3650fba20>"
      ]
     },
     "metadata": {
      "needs_background": "light"
     },
     "output_type": "display_data"
    }
   ],
   "source": [
    "# Build the visualizations here\n",
    "\n",
    "plt.hist(df['Incongruent'])\n",
    "plt.title('Incongruent group time')\n",
    "plt.xlabel('time')\n",
    "plt.ylabel('number of observations')\n",
    "plt.show()"
   ]
  },
  {
   "cell_type": "code",
   "execution_count": 155,
   "metadata": {},
   "outputs": [
    {
     "data": {
      "text/plain": [
       "Text(0,0.5,'Incongruent')"
      ]
     },
     "execution_count": 155,
     "metadata": {},
     "output_type": "execute_result"
    },
    {
     "data": {
      "image/png": "[encoded data removed]",
      "text/plain": [
       "<matplotlib.figure.Figure at 0x7fb364de2278>"
      ]
     },
     "metadata": {
      "needs_background": "light"
     },
     "output_type": "display_data"
    }
   ],
   "source": [
    "# to demonstrate relationships between two groups by scatter plot\n",
    "plt.scatter(df['Congruent'], df['Incongruent'], color = 'red');\n",
    "plt.xlabel('Congruent')\n",
    "plt.ylabel('Incongruent')\n",
    "\n"
   ]
  },
  {
   "cell_type": "markdown",
   "metadata": {},
   "source": [
    "To check if there is a correlation between `Congruent` and `Incongruent`"
   ]
  },
  {
   "cell_type": "code",
   "execution_count": 156,
   "metadata": {},
   "outputs": [
    {
     "name": "stderr",
     "output_type": "stream",
     "text": [
      "/opt/conda/lib/python3.6/site-packages/ipykernel_launcher.py:3: FutureWarning: pandas.scatter_matrix is deprecated. Use pandas.plotting.scatter_matrix instead\n",
      "  This is separate from the ipykernel package so we can avoid doing imports until\n"
     ]
    },
    {
     "data": {
      "image/png": "[encoded data removed]",
      "text/plain": [
       "<matplotlib.figure.Figure at 0x7fb3658d1160>"
      ]
     },
     "metadata": {
      "needs_background": "light"
     },
     "output_type": "display_data"
    }
   ],
   "source": [
    "# to view correlations graphically as a scatter matrix\n",
    "\n",
    "pd.scatter_matrix(df, figsize=(6, 6))\n",
    "plt.show()"
   ]
  },
  {
   "cell_type": "code",
   "execution_count": 157,
   "metadata": {},
   "outputs": [
    {
     "data": {
      "text/html": [
       "<div>\n",
       "<style>\n",
       "    .dataframe thead tr:only-child th {\n",
       "        text-align: right;\n",
       "    }\n",
       "\n",
       "    .dataframe thead th {\n",
       "        text-align: left;\n",
       "    }\n",
       "\n",
       "    .dataframe tbody tr th {\n",
       "        vertical-align: top;\n",
       "    }\n",
       "</style>\n",
       "<table border=\"1\" class=\"dataframe\">\n",
       "  <thead>\n",
       "    <tr style=\"text-align: right;\">\n",
       "      <th></th>\n",
       "      <th>Congruent</th>\n",
       "      <th>Incongruent</th>\n",
       "    </tr>\n",
       "  </thead>\n",
       "  <tbody>\n",
       "    <tr>\n",
       "      <th>Congruent</th>\n",
       "      <td>1.00000</td>\n",
       "      <td>0.35182</td>\n",
       "    </tr>\n",
       "    <tr>\n",
       "      <th>Incongruent</th>\n",
       "      <td>0.35182</td>\n",
       "      <td>1.00000</td>\n",
       "    </tr>\n",
       "  </tbody>\n",
       "</table>\n",
       "</div>"
      ],
      "text/plain": [
       "             Congruent  Incongruent\n",
       "Congruent      1.00000      0.35182\n",
       "Incongruent    0.35182      1.00000"
      ]
     },
     "execution_count": 157,
     "metadata": {},
     "output_type": "execute_result"
    }
   ],
   "source": [
    "# to calculate correlation matrix\n",
    "df.corr()"
   ]
  },
  {
   "cell_type": "markdown",
   "metadata": {},
   "source": [
    "As we see from histograms, scatter-plots and correlation matrix:\n",
    "- the correlation between `Incongruent` and `Congruent` is week\n",
    "- the most often reaction for `Incongruent` is around 20 min (20-21 min)\n",
    "- the most often reaction for `Congruent` is around 15 min (14-16 min)\n",
    "- both histograms are right skewed with outliers.\n",
    "\n"
   ]
  },
  {
   "cell_type": "markdown",
   "metadata": {},
   "source": [
    "We'll calculate the difference between both groups to check if it is significant"
   ]
  },
  {
   "cell_type": "code",
   "execution_count": 158,
   "metadata": {},
   "outputs": [
    {
     "data": {
      "text/plain": [
       "7.9647916666666667"
      ]
     },
     "execution_count": 158,
     "metadata": {},
     "output_type": "execute_result"
    }
   ],
   "source": [
    "# to calculate a difference in means between `Congruent` and `Incongruent`\n",
    "\n",
    "diff_mean = df['Incongruent'].mean() - df['Congruent'].mean()\n",
    "diff_mean"
   ]
  },
  {
   "cell_type": "code",
   "execution_count": 159,
   "metadata": {},
   "outputs": [
    {
     "data": {
      "text/plain": [
       "0      7.199\n",
       "1      1.950\n",
       "2     11.650\n",
       "3      7.057\n",
       "4      8.134\n",
       "5      8.640\n",
       "6      9.880\n",
       "7      8.407\n",
       "8     11.361\n",
       "9     11.802\n",
       "10     2.196\n",
       "11     3.346\n",
       "12     2.437\n",
       "13     3.401\n",
       "14    17.055\n",
       "15    10.028\n",
       "16     6.644\n",
       "17     9.790\n",
       "18     6.081\n",
       "19    21.919\n",
       "20    10.950\n",
       "21     3.727\n",
       "22     2.348\n",
       "23     5.153\n",
       "Name: Diffs, dtype: float64"
      ]
     },
     "execution_count": 159,
     "metadata": {},
     "output_type": "execute_result"
    }
   ],
   "source": [
    "# to calculate additional column with difference between `Congruent` and `Incongruent`\n",
    "\n",
    "df['Diffs'] = df['Incongruent'] - df['Congruent']\n",
    "df['Diffs']"
   ]
  },
  {
   "cell_type": "code",
   "execution_count": 160,
   "metadata": {},
   "outputs": [
    {
     "data": {
      "text/plain": [
       "0     0.595993\n",
       "1     0.116134\n",
       "2     1.218110\n",
       "3     0.817729\n",
       "4     0.554503\n",
       "5     0.705998\n",
       "6     0.672475\n",
       "7     0.935462\n",
       "8     1.208488\n",
       "9     0.815055\n",
       "10    0.098352\n",
       "11    0.218721\n",
       "12    0.161680\n",
       "13    0.200898\n",
       "14    0.937088\n",
       "15    0.826711\n",
       "16    0.359232\n",
       "17    0.920199\n",
       "18    0.536054\n",
       "19    1.772092\n",
       "20    0.845952\n",
       "21    0.261856\n",
       "22    0.119127\n",
       "23    0.321982\n",
       "Name: DiffsProp, dtype: float64"
      ]
     },
     "execution_count": 160,
     "metadata": {},
     "output_type": "execute_result"
    }
   ],
   "source": [
    "# to calculate how much `Incongruent` time is longer/shorter than `Congruent` time\n",
    "\n",
    "df['DiffsProp'] = (df['Incongruent'] - df['Congruent'])/df['Congruent']\n",
    "df['DiffsProp']"
   ]
  },
  {
   "cell_type": "code",
   "execution_count": 161,
   "metadata": {},
   "outputs": [
    {
     "data": {
      "text/plain": [
       "count    24.000000\n",
       "mean      7.964792\n",
       "std       4.864827\n",
       "min       1.950000\n",
       "25%       3.645500\n",
       "50%       7.666500\n",
       "75%      10.258500\n",
       "max      21.919000\n",
       "Name: Diffs, dtype: float64"
      ]
     },
     "execution_count": 161,
     "metadata": {},
     "output_type": "execute_result"
    }
   ],
   "source": [
    "# to check descriptive statistics of a new column `Diffs`\n",
    "df['Diffs'].describe()"
   ]
  },
  {
   "cell_type": "code",
   "execution_count": 162,
   "metadata": {},
   "outputs": [
    {
     "name": "stdout",
     "output_type": "stream",
     "text": [
      "Mean of the difference: 7.96479166667\n",
      "Standard deviation of the differences:  4.86482691036\n"
     ]
    }
   ],
   "source": [
    "# to print measure of central tendency\n",
    "print(\"Mean of the difference:\", df['Diffs'].mean())\n",
    "\n",
    "# to print measure of variability\n",
    "print(\"Standard deviation of the differences: \", df['Diffs'].std())"
   ]
  },
  {
   "cell_type": "markdown",
   "metadata": {},
   "source": [
    "- We see that time for `Incongruent` group is significantly longer than time for `Congruent` group.\n",
    "In many cases more than by 50%\n",
    "- Mean difference is 7.9648\n",
    "- Standard defition of difference 4.8648"
   ]
  },
  {
   "cell_type": "markdown",
   "metadata": {},
   "source": [
    "<a id=\"stats\"></a>\n",
    "\n",
    "## **Statistical test**"
   ]
  },
  {
   "cell_type": "markdown",
   "metadata": {},
   "source": [
    "(5)  Now, perform the statistical test and report your results. What is your confidence level or Type I error associated with your test? What is your conclusion regarding the hypotheses you set up? Did the results match up with your expectations? **Hint:**  Think about what is being measured on each individual, and what statistic best captures how an individual reacts in each environment."
   ]
  },
  {
   "cell_type": "code",
   "execution_count": 163,
   "metadata": {},
   "outputs": [],
   "source": [
    "# Perform the statistical test here\n",
    "import pandas as pd\n",
    "import numpy as np\n",
    "import scipy.stats as stats\n",
    "import matplotlib.pyplot as plt"
   ]
  },
  {
   "cell_type": "markdown",
   "metadata": {},
   "source": [
    "In order to check the whole population, we'll use bootstraping method.\n",
    "It would allow us to plot histogram of population's means and see how it is distributed,\n",
    "in order to be able to make a decision about statistical test."
   ]
  },
  {
   "cell_type": "code",
   "execution_count": 164,
   "metadata": {},
   "outputs": [],
   "source": [
    "# bootstrap sampling in order to calculate means' distribution\n",
    "diffs = []\n",
    "\n",
    "for _ in range(10000):\n",
    "    sample = df.sample(24, replace = True)\n",
    "    in_mean = sample.Incongruent.mean()\n",
    "    con_mean = sample.Congruent.mean()\n",
    "    diffs.append(in_mean - con_mean)\n",
    "\n",
    "# to convert to np array\n",
    "diffs = np.array(diffs)"
   ]
  },
  {
   "cell_type": "code",
   "execution_count": 165,
   "metadata": {
    "scrolled": true
   },
   "outputs": [
    {
     "data": {
      "image/png": "[encoded data removed]",
      "text/plain": [
       "<matplotlib.figure.Figure at 0x7fb36569e7b8>"
      ]
     },
     "metadata": {
      "needs_background": "light"
     },
     "output_type": "display_data"
    }
   ],
   "source": [
    "# to plot distribution of population means\n",
    "plt.hist(diffs);\n",
    "plt.axvline(diff_mean, color='red');\n"
   ]
  },
  {
   "cell_type": "markdown",
   "metadata": {},
   "source": [
    "Actual observed difference mean is 7.9648, shown by red vertical lane, and we see it's in the middle of the distribution.\n",
    "On this plot we see normal distribution."
   ]
  },
  {
   "cell_type": "code",
   "execution_count": 166,
   "metadata": {},
   "outputs": [
    {
     "data": {
      "text/plain": [
       "0.48880000000000001"
      ]
     },
     "execution_count": 166,
     "metadata": {},
     "output_type": "execute_result"
    }
   ],
   "source": [
    "# to calculate p-value\n",
    "(diffs > diff_mean).mean()"
   ]
  },
  {
   "cell_type": "code",
   "execution_count": 167,
   "metadata": {},
   "outputs": [
    {
     "data": {
      "text/plain": [
       "7.968782366666666"
      ]
     },
     "execution_count": 167,
     "metadata": {},
     "output_type": "execute_result"
    }
   ],
   "source": [
    "# population mean\n",
    "diffs.mean()"
   ]
  },
  {
   "cell_type": "markdown",
   "metadata": {},
   "source": [
    "As we see p-value is significantly bigger than Type-I error (5%) so we have to reject Null Hypothesis in favor of Alternative Hypothesis. "
   ]
  },
  {
   "cell_type": "markdown",
   "metadata": {},
   "source": [
    "We also could use confidence interval to check if our observed mean falls into 95% of bootstrapped means."
   ]
  },
  {
   "cell_type": "code",
   "execution_count": 168,
   "metadata": {},
   "outputs": [
    {
     "data": {
      "text/plain": [
       "(6.1844187500000016, 9.9249239583333306)"
      ]
     },
     "execution_count": 168,
     "metadata": {},
     "output_type": "execute_result"
    }
   ],
   "source": [
    "# tp calculate confidence intervals between 2.5% and 97.% for bootstrapped means\n",
    "np.percentile(diffs, 2.5), np.percentile(diffs, 97.5)\n"
   ]
  },
  {
   "cell_type": "markdown",
   "metadata": {},
   "source": [
    "As we see our observed mean `7.9648` is indeed in the interval, which confirms our decision to reject Null Hypothesis."
   ]
  },
  {
   "cell_type": "code",
   "execution_count": 169,
   "metadata": {},
   "outputs": [
    {
     "data": {
      "text/plain": [
       "3.5593579576451955"
      ]
     },
     "execution_count": 169,
     "metadata": {},
     "output_type": "execute_result"
    }
   ],
   "source": [
    "# by default, numpy.std returns the population standard deviation, \n",
    "# we are looking for the sample standard deviation, we hav to supply an optional ddof parameter to std():\n",
    "\n",
    "np.std(df['Congruent'], ddof=1)"
   ]
  },
  {
   "cell_type": "code",
   "execution_count": 170,
   "metadata": {},
   "outputs": [
    {
     "data": {
      "text/plain": [
       "4.7970571224691376"
      ]
     },
     "execution_count": 170,
     "metadata": {},
     "output_type": "execute_result"
    }
   ],
   "source": [
    "# standard deviation for `Incongruent` sample\n",
    "np.std(df['Incongruent'], ddof=1)"
   ]
  },
  {
   "cell_type": "code",
   "execution_count": 171,
   "metadata": {},
   "outputs": [
    {
     "name": "stdout",
     "output_type": "stream",
     "text": [
      "Standard deviation bootstrapped 0.966129484177\n"
     ]
    }
   ],
   "source": [
    "# to calculate standard deviation bootstrapped means:\n",
    "print('Standard deviation bootstrapped', diffs.std())\n"
   ]
  },
  {
   "cell_type": "markdown",
   "metadata": {},
   "source": [
    "Now we have to make a decision about the statistical test.\n",
    "I'd like to check t_value. \n"
   ]
  },
  {
   "cell_type": "markdown",
   "metadata": {},
   "source": [
    "This test checks if the means of two samples are significantly different.\n",
    "\n",
    "H0: the means of the samples are equal.\n",
    "\n",
    "H1: the means of the samples are unequal."
   ]
  },
  {
   "cell_type": "code",
   "execution_count": 172,
   "metadata": {},
   "outputs": [
    {
     "name": "stdout",
     "output_type": "stream",
     "text": [
      "2.06865761042\n"
     ]
    }
   ],
   "source": [
    "# to find our two tailed critical values\n",
    "# we need two values for that\n",
    "# The alpha level: given as 5% in the question.\n",
    "# The degrees of freedom, which is the number of items in the sample (n) minus 1: 24 – 1 = 23\n",
    "print(stats.t.ppf(1-0.025, 23))"
   ]
  },
  {
   "cell_type": "markdown",
   "metadata": {},
   "source": [
    "This critical value means is that we would expect most values to fall between -2.0686 and 2.0686. If our calculated t-value falls within this range, the null hypothesis is likely true.\n",
    "\n",
    "Let's calculate t-value\n"
   ]
  },
  {
   "attachments": {
    "image.png": {
     "image/png": "[encoded data removed]"
    }
   },
   "cell_type": "markdown",
   "metadata": {},
   "source": [
    "For that calculation we need:\n",
    "    \n",
    "- The sample mean(x̄). \n",
    "\n",
    "- The population mean(μ). These two are calculated in df['Diffs].mean()\n",
    "- The sample standard deviation(s) 4.8648\n",
    "- Number of observations(n) = 24.\n",
    "\n",
    "Insert numbers into formula:\n",
    "\n",
    "\n",
    "![image.png](attachment:image.png)"
   ]
  },
  {
   "cell_type": "code",
   "execution_count": 173,
   "metadata": {},
   "outputs": [
    {
     "data": {
      "text/plain": [
       "8.0207513118339637"
      ]
     },
     "execution_count": 173,
     "metadata": {},
     "output_type": "execute_result"
    }
   ],
   "source": [
    "#t_value = df['Diffs'].mean()/(sample std / sqrt(n))\n",
    "t_value = df['Diffs'].mean()/(4.8648/np.sqrt(24))\n",
    "t_value"
   ]
  },
  {
   "cell_type": "code",
   "execution_count": 174,
   "metadata": {},
   "outputs": [
    {
     "data": {
      "text/plain": [
       "(8.020706944109957, 4.1030005857111781e-08)"
      ]
     },
     "execution_count": 174,
     "metadata": {},
     "output_type": "execute_result"
    }
   ],
   "source": [
    "# we can confirm this t_value calculation by using ttes_rel method\n",
    "# from scipy.stats import ttest_rel\n",
    "\n",
    "stat, p = stats.ttest_rel(df['Incongruent'],df['Congruent'],axis=0)\n",
    "stat, p"
   ]
  },
  {
   "cell_type": "markdown",
   "metadata": {},
   "source": [
    "As we see our t_value 8.02 doesn't fall into interval of t-critical values (-0.2686, 2.0686) Sp we have to reject Null Hypothesis"
   ]
  },
  {
   "cell_type": "markdown",
   "metadata": {},
   "source": [
    "## Conclusions:\n",
    "\n",
    "- both p-value and t_value confirms that with Type-I error 5% we have to reject Null Hypothesis which states that means of `Congruent` and `Incongruent` groups are the same\n",
    "- we reject Null Hypothesis in favor of Althernative Hypothesis: the means of `Congruent` and `Incongruent` groups are different\n",
    "- as we see from the column `Diffs` it takes significantly longer time to read word in `Incongruent` group, our observation in this column were confirmed by p-value and t-value"
   ]
  },
  {
   "cell_type": "markdown",
   "metadata": {},
   "source": [
    "<a id =\"opt\"></a>\n",
    "\n",
    "## **Optional**"
   ]
  },
  {
   "cell_type": "markdown",
   "metadata": {},
   "source": [
    "(6) Optional: \n",
    "\n",
    "**What do you think is responsible for the effects observed?**\n",
    "- as we see from column `Diffs` and p-value and t-value it takes significantly longer time to read mismatched words.\n",
    "\n",
    "**Can you think of an alternative or similar task that would result in a similar effect?**\n",
    "I think some examples could include:\n",
    "- saying the word meaning one movement but doing another, like saying \"forward\" and \"going back\", saying \"no\" and nodding head. \n",
    "- also could include mismatched shapes, fruits, feelings.\n",
    "\n",
    "**Some research about the problem will be helpful for thinking about these two questions!**\n",
    "\n",
    "https://www.verywellmind.com/what-is-the-stroop-effect-2795832\n",
    "\n",
    "https://www.nature.com/articles/s41598-017-18185-1"
   ]
  }
 ],
 "metadata": {
  "kernelspec": {
   "display_name": "Python 3",
   "language": "python",
   "name": "python3"
  },
  "language_info": {
   "codemirror_mode": {
    "name": "ipython",
    "version": 3
   },
   "file_extension": ".py",
   "mimetype": "text/x-python",
   "name": "python",
   "nbconvert_exporter": "python",
   "pygments_lexer": "ipython3",
   "version": "3.6.3"
  }
 },
 "nbformat": 4,
 "nbformat_minor": 2
}
